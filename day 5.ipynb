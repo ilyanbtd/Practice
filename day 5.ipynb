{
 "cells": [
  {
   "cell_type": "code",
   "execution_count": 2,
   "id": "9b5683c5-57a7-436b-bbff-b82dcacbf1b6",
   "metadata": {},
   "outputs": [],
   "source": [
    "L = [1, 3, 5, 5, -1, 2, 17, 9]\n"
   ]
  },
  {
   "cell_type": "code",
   "execution_count": null,
   "id": "8cbbc3b5-4a47-4ab8-a7e9-cdaf4d44c736",
   "metadata": {},
   "outputs": [],
   "source": [
    "#now I need to go through each index to find the largest"
   ]
  },
  {
   "cell_type": "code",
   "execution_count": 43,
   "id": "10089f4a-2c3e-4a3c-bd4e-fee2958d2d22",
   "metadata": {},
   "outputs": [
    {
     "name": "stdout",
     "output_type": "stream",
     "text": [
      "17\n"
     ]
    }
   ],
   "source": [
    "import numpy as np\n",
    "n = len(L)\n",
    "\n",
    "maxnum = 0  \n",
    "\n",
    "for ind in range (n):\n",
    "    if L[ind] >= maxnum:\n",
    "        maxnum =L[ind]\n",
    "\n",
    "print(maxnum)\n"
   ]
  },
  {
   "cell_type": "code",
   "execution_count": null,
   "id": "10cb5406-9a04-46f3-ae34-2f7783c1537f",
   "metadata": {},
   "outputs": [],
   "source": [
    "#finding the numbers that occur twice"
   ]
  },
  {
   "cell_type": "code",
   "execution_count": 56,
   "id": "6634c08d-c31d-4aff-8ed1-fed72c000189",
   "metadata": {},
   "outputs": [
    {
     "data": {
      "text/plain": [
       "[5]"
      ]
     },
     "execution_count": 56,
     "metadata": {},
     "output_type": "execute_result"
    }
   ],
   "source": [
    "known_numbers = []\n",
    "double = []\n",
    "for ind in range(n):\n",
    "    if L[ind] not in known_numbers:\n",
    "        known_numbers.append(L[ind])\n",
    "    else:\n",
    "        double.append(L[ind])\n",
    "\n",
    "double\n",
    "        "
   ]
  },
  {
   "cell_type": "code",
   "execution_count": null,
   "id": "e3cb5b95-48ea-4530-9982-0a2cebe3bf7b",
   "metadata": {},
   "outputs": [],
   "source": [
    "#reversing the list"
   ]
  },
  {
   "cell_type": "code",
   "execution_count": 77,
   "id": "47262dbd-a26b-476b-b1b9-c2532686138b",
   "metadata": {},
   "outputs": [
    {
     "name": "stdout",
     "output_type": "stream",
     "text": [
      "[-1, 5, 5, 3, 1]\n"
     ]
    }
   ],
   "source": [
    "reversed_list = []\n",
    "for ind in range (n - 1, -1, -1):\n",
    "    reversed_list.append(L[ind])\n",
    "\n",
    "\n",
    "print(reversed_list)"
   ]
  },
  {
   "cell_type": "code",
   "execution_count": null,
   "id": "feb2940d-601d-448e-b2f2-d49811787f6d",
   "metadata": {},
   "outputs": [],
   "source": [
    "#associating index's within lists with other lists"
   ]
  },
  {
   "cell_type": "code",
   "execution_count": 1,
   "id": "abd4fb09-d6c3-4ded-9035-50da92af5dfd",
   "metadata": {},
   "outputs": [],
   "source": [
    "\n",
    "names =['a', 'b', 'c', 'd', 'e']\n",
    "ages = [17, 16, 16, 17, 16]\n",
    "grades = ['B', 'C', 'A', 'D', 'B']"
   ]
  },
  {
   "cell_type": "code",
   "execution_count": 3,
   "id": "63d8c646-e103-4940-93ce-4a24df31753c",
   "metadata": {},
   "outputs": [
    {
     "data": {
      "text/plain": [
       "['a', 17, 'B', 'e', 16, 'B']"
      ]
     },
     "execution_count": 3,
     "metadata": {},
     "output_type": "execute_result"
    }
   ],
   "source": [
    "b_grade = []\n",
    "n = len(ages)\n",
    "for idx in range(n):\n",
    "    if grades[idx] == 'B':\n",
    "        b_grade.append(names[idx])\n",
    "        b_grade.append(ages[idx])\n",
    "        b_grade.append(grades[idx])\n",
    "\n",
    "b_grade"
   ]
  },
  {
   "cell_type": "code",
   "execution_count": 81,
   "id": "6dbd258a-7801-4e87-b1f2-c3541e875395",
   "metadata": {},
   "outputs": [
    {
     "name": "stdout",
     "output_type": "stream",
     "text": [
      "/Users/itskoopa\n"
     ]
    }
   ],
   "source": [
    "cd"
   ]
  },
  {
   "cell_type": "code",
   "execution_count": 7,
   "id": "2a3211c4-2c5b-45fa-ae11-6bf0cd34d784",
   "metadata": {},
   "outputs": [],
   "source": [
    "file = open(\"/usr/share/dict/words\")\n",
    "l = []\n",
    "for line in file:\n",
    "    line = line.rstrip()\n",
    "    if len(line) == 6:\n",
    "        l.append(line)\n",
    "\n"
   ]
  },
  {
   "cell_type": "code",
   "execution_count": 126,
   "id": "5c5be07e-09f3-4222-b4d9-32a7aefa7678",
   "metadata": {},
   "outputs": [
    {
     "data": {
      "text/plain": [
       "True"
      ]
     },
     "execution_count": 126,
     "metadata": {},
     "output_type": "execute_result"
    }
   ],
   "source": [
    "#function to determine if a given string is a palindrome"
   ]
  },
  {
   "cell_type": "code",
   "execution_count": 9,
   "id": "ca4f7aa0-75db-4085-8551-1d898e37a612",
   "metadata": {},
   "outputs": [
    {
     "data": {
      "text/plain": [
       "True"
      ]
     },
     "execution_count": 9,
     "metadata": {},
     "output_type": "execute_result"
    }
   ],
   "source": [
    "def is_palindrome(w):\n",
    "    n = len(w)\n",
    "    ind_f = 0\n",
    "    ind_b = n - 1\n",
    "    while ind_f <= ind_b:\n",
    "        if w[ind_f] != w[ind_b]:\n",
    "            return False\n",
    "        else:\n",
    "            ind_f += 1\n",
    "            ind_b -= 1\n",
    "    return True\n",
    "\n",
    "is_palindrome('iammaammai')"
   ]
  },
  {
   "cell_type": "code",
   "execution_count": null,
   "id": "9ff90ebe-8213-493f-807b-3f39acfd5a17",
   "metadata": {},
   "outputs": [],
   "source": []
  }
 ],
 "metadata": {
  "kernelspec": {
   "display_name": "Python 3 (ipykernel)",
   "language": "python",
   "name": "python3"
  },
  "language_info": {
   "codemirror_mode": {
    "name": "ipython",
    "version": 3
   },
   "file_extension": ".py",
   "mimetype": "text/x-python",
   "name": "python",
   "nbconvert_exporter": "python",
   "pygments_lexer": "ipython3",
   "version": "3.12.4"
  }
 },
 "nbformat": 4,
 "nbformat_minor": 5
}
