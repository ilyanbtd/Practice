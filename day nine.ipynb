{
 "cells": [
  {
   "cell_type": "code",
   "execution_count": 53,
   "id": "dd7328f2-c65e-475d-8637-100db5d119ab",
   "metadata": {},
   "outputs": [
    {
     "name": "stdout",
     "output_type": "stream",
     "text": [
      "\"user_id\", \"artistname\", \"trackname\", \"playlistname\"\n",
      "\n",
      "12902577\n"
     ]
    }
   ],
   "source": [
    "filename = '/Users/itskoopa/data/spotify_dataset.csv'\n",
    "file = open(filename)\n",
    "header = file.readline()\n",
    "print(header)\n",
    "n = 0\n",
    "for line in file:\n",
    "    n += 1\n",
    "print(n)\n",
    "\n",
    "file.close()"
   ]
  },
  {
   "cell_type": "code",
   "execution_count": 54,
   "id": "a75fabf3-f14b-483d-b8c0-edb08a30d04c",
   "metadata": {},
   "outputs": [],
   "source": [
    "# find all the people who fw kendrick lamar\n",
    "\n",
    "query1=\"Kendrick Lamar\"\n",
    "query2='Drake'"
   ]
  },
  {
   "cell_type": "code",
   "execution_count": 55,
   "id": "ffa33bc6-d799-41f6-a9ca-68d422d6d610",
   "metadata": {},
   "outputs": [
    {
     "data": {
      "text/plain": [
       "9.0"
      ]
     },
     "execution_count": 55,
     "metadata": {},
     "output_type": "execute_result"
    }
   ],
   "source": [
    "import numpy as np\n",
    "np.ceil(17/2\n",
    "   )"
   ]
  },
  {
   "cell_type": "code",
   "execution_count": 56,
   "id": "472300b0-6e80-42f6-8606-1605e8f1dea9",
   "metadata": {},
   "outputs": [
    {
     "data": {
      "text/plain": [
       "'206'"
      ]
     },
     "execution_count": 56,
     "metadata": {},
     "output_type": "execute_result"
    }
   ],
   "source": [
    "s='c50566d83fba17b20697039d5824db78'\n",
    "n = len(s)\n",
    "m = int(np.floor(n/2))\n",
    "s[m - 1:m + 2]"
   ]
  },
  {
   "cell_type": "code",
   "execution_count": 57,
   "id": "b32044cb-2a1e-4aeb-bb8b-c3198024ad52",
   "metadata": {},
   "outputs": [
    {
     "data": {
      "text/plain": [
       "['\"c50566d83fba17b20697039d5824db78\"',\n",
       " '\"SZA\"',\n",
       " '\"Babylon (feat. Kendrick Lamar)\"',\n",
       " '\"April 2014\"']"
      ]
     },
     "execution_count": 57,
     "metadata": {},
     "output_type": "execute_result"
    }
   ],
   "source": [
    "s='\"c50566d83fba17b20697039d5824db78\",\"SZA\",\"Babylon (feat. Kendrick Lamar)\",\"April 2014\"'\n",
    "s.split(',')"
   ]
  },
  {
   "cell_type": "code",
   "execution_count": 58,
   "id": "7992d8f5-a4ba-4451-847d-8f0ddeeae270",
   "metadata": {},
   "outputs": [
    {
     "name": "stdout",
     "output_type": "stream",
     "text": [
      "1815\n",
      "3452\n"
     ]
    }
   ],
   "source": [
    "file = open(filename)\n",
    "n = 0\n",
    "m = 0\n",
    "usr_int_k = []\n",
    "usr_int_d = []\n",
    "for line in file:\n",
    "    if query1 in line:\n",
    "        ls = line.split(',')[0]\n",
    "        if ls in usr_int_k:\n",
    "            continue\n",
    "        else:\n",
    "            n += 1\n",
    "            usr_int_k.append(ls)\n",
    "    if query2 in line:\n",
    "        ls = line.split(',')[0]\n",
    "        if ls in usr_int_d:\n",
    "            continue\n",
    "        else:\n",
    "            m += 1\n",
    "            usr_int_d.append(ls)\n",
    "print(n)\n",
    "print(m)\n",
    "file.close()\n",
    "    "
   ]
  },
  {
   "cell_type": "code",
   "execution_count": 63,
   "id": "7e95af14-d9ed-4e67-8c7f-95b9d07cbb04",
   "metadata": {},
   "outputs": [
    {
     "ename": "KeyboardInterrupt",
     "evalue": "",
     "output_type": "error",
     "traceback": [
      "\u001b[0;31m---------------------------------------------------------------------------\u001b[0m",
      "\u001b[0;31mKeyboardInterrupt\u001b[0m                         Traceback (most recent call last)",
      "Cell \u001b[0;32mIn[63], line 8\u001b[0m\n\u001b[1;32m      6\u001b[0m \u001b[38;5;28;01mfor\u001b[39;00m line \u001b[38;5;129;01min\u001b[39;00m file:\n\u001b[1;32m      7\u001b[0m     ls \u001b[38;5;241m=\u001b[39m line\u001b[38;5;241m.\u001b[39msplit(\u001b[38;5;124m'\u001b[39m\u001b[38;5;124m,\u001b[39m\u001b[38;5;124m'\u001b[39m)[\u001b[38;5;241m1\u001b[39m]\n\u001b[0;32m----> 8\u001b[0m     \u001b[38;5;28;01mif\u001b[39;00m ls \u001b[38;5;129;01mnot\u001b[39;00m \u001b[38;5;129;01min\u001b[39;00m usr_liked:\n\u001b[1;32m      9\u001b[0m         usr_liked\u001b[38;5;241m.\u001b[39mappend(ls)\n\u001b[1;32m     12\u001b[0m \u001b[38;5;28mprint\u001b[39m(usr_liked)\n",
      "\u001b[0;31mKeyboardInterrupt\u001b[0m: "
     ]
    }
   ],
   "source": [
    "#artist liked by most usrs\n",
    "filename = '/Users/itskoopa/data/spotify_dataset.csv'\n",
    "file = open(filename)\n",
    "usr_liked = []\n",
    "num_of = []\n",
    "for line in file:\n",
    "    ls = line.split(',')[1]\n",
    "    if ls not in usr_liked:\n",
    "        usr_liked.append(ls)\n",
    "\n",
    "\n",
    "print(usr_liked)"
   ]
  },
  {
   "cell_type": "code",
   "execution_count": 51,
   "id": "b5fca431-ca07-4eda-bd84-78e73062f0e5",
   "metadata": {},
   "outputs": [
    {
     "name": "stdout",
     "output_type": "stream",
     "text": [
      "\"Track URI\",\"Track Name\",\"Artist URI(s)\",\"Artist Name(s)\",\"Album URI\",\"Album Name\",\"Album Artist URI(s)\",\"Album Artist Name(s)\",\"Album Release Date\",\"Album Image URL\",\"Disc Number\",\"Track Number\",\"Track Duration (ms)\",\"Track Preview URL\",\"Explicit\",\"Popularity\",\"ISRC\",\"Added By\",\"Added At\",\"Artist Genres\",\"Danceability\",\"Energy\",\"Key\",\"Loudness\",\"Mode\",\"Speechiness\",\"Acousticness\",\"Instrumentalness\",\"Liveness\",\"Valence\",\"Tempo\",\"Time Signature\",\"Album Genres\",\"Label\",\"Copyrights\"\n",
      "\n",
      "\"Explicit\" 14\n"
     ]
    }
   ],
   "source": [
    "filename='/Users/itskoopa/Downloads/top_10000_1960-now.csv'\n",
    "file = open(filename)\n",
    "\n",
    "header = file.readline() # it's a string \" ...\"\n",
    "l_header = header.split(',') # this is a list of words\n",
    "\n",
    "print(header)\n",
    "file.close()\n",
    "\n",
    "for idx in range(len(l_header)):\n",
    "    word = l_header[idx]\n",
    "    if 'Explicit' in word:\n",
    "        print(word, idx)"
   ]
  },
  {
   "cell_type": "code",
   "execution_count": null,
   "id": "49b214c9-49c7-458a-88a8-aeb68c386597",
   "metadata": {},
   "outputs": [],
   "source": [
    "#most liked artist"
   ]
  },
  {
   "cell_type": "code",
   "execution_count": null,
   "id": "01ccdd31-802f-43ce-822b-9a5500b4ad9c",
   "metadata": {},
   "outputs": [],
   "source": []
  }
 ],
 "metadata": {
  "kernelspec": {
   "display_name": "Python 3 (ipykernel)",
   "language": "python",
   "name": "python3"
  },
  "language_info": {
   "codemirror_mode": {
    "name": "ipython",
    "version": 3
   },
   "file_extension": ".py",
   "mimetype": "text/x-python",
   "name": "python",
   "nbconvert_exporter": "python",
   "pygments_lexer": "ipython3",
   "version": "3.12.3"
  }
 },
 "nbformat": 4,
 "nbformat_minor": 5
}
