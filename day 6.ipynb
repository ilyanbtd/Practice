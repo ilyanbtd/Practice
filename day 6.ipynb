{
 "cells": [
  {
   "cell_type": "code",
   "execution_count": 6,
   "id": "e8cd3fb2-708a-4121-ac79-abaa5e84e2a4",
   "metadata": {},
   "outputs": [],
   "source": [
    "filename = 'book.txt'\n"
   ]
  },
  {
   "cell_type": "code",
   "execution_count": 20,
   "id": "6aec3a5b-3eb3-460c-b546-24a509e5d50b",
   "metadata": {},
   "outputs": [],
   "source": [
    "file = open(filename)\n",
    "\n",
    "freq_words = {}\n",
    "\n",
    "for line in file:\n",
    "    line = line.rstrip()\n",
    "    words = line.split()\n",
    "    for w in words:\n",
    "        w = w.lower()\n",
    "        if w not in freq_words:\n",
    "            freq_words[w] = 0\n",
    "        freq_words[w] += 1\n",
    "\n",
    "file.close()\n"
   ]
  },
  {
   "cell_type": "code",
   "execution_count": 51,
   "id": "5894d370-5b2d-4100-b880-ca49fccc88d7",
   "metadata": {},
   "outputs": [
    {
     "data": {
      "text/plain": [
       "110"
      ]
     },
     "execution_count": 51,
     "metadata": {},
     "output_type": "execute_result"
    }
   ],
   "source": [
    "word_pairs = {}\n",
    "file = open(filename)\n",
    "for line in file:\n",
    "    line = line.rstrip()\n",
    "    words = line.split()\n",
    "    n = len(words)\n",
    "    for idx in range(n-1):\n",
    "        word1 = words[idx].rstrip(',.;').lower()\n",
    "        word2 = words[idx + 1].rstrip(',.;').lower()\n",
    "        wp = (word1, word2)\n",
    "        if wp not in word_pairs:\n",
    "            word_pairs[wp] = 1\n",
    "        else:\n",
    "            word_pairs[wp] += 1\n",
    "file.close()\n",
    "word_pairs[('for', 'the')]"
   ]
  },
  {
   "cell_type": "code",
   "execution_count": null,
   "id": "d24ff296-035d-4f5d-a5b5-be7a4567e7ae",
   "metadata": {},
   "outputs": [],
   "source": []
  }
 ],
 "metadata": {
  "kernelspec": {
   "display_name": "Python 3 (ipykernel)",
   "language": "python",
   "name": "python3"
  },
  "language_info": {
   "codemirror_mode": {
    "name": "ipython",
    "version": 3
   },
   "file_extension": ".py",
   "mimetype": "text/x-python",
   "name": "python",
   "nbconvert_exporter": "python",
   "pygments_lexer": "ipython3",
   "version": "3.12.3"
  }
 },
 "nbformat": 4,
 "nbformat_minor": 5
}
